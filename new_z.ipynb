{
 "cells": [
  {
   "cell_type": "code",
   "execution_count": 3,
   "metadata": {},
   "outputs": [
    {
     "name": "stdout",
     "output_type": "stream",
     "text": [
      "Filename: lensedquasars.fits\n",
      "No.    Name      Ver    Type      Cards   Dimensions   Format\n",
      "  0  PRIMARY       1 PrimaryHDU       4   ()      \n",
      "  1                1 BinTableHDU     26   220R x 9C   [D, D, 17A, 11A, 15A, 5A, K, 13A, 13A]   \n"
     ]
    }
   ],
   "source": [
    "from astropy.io import fits\n",
    "import numpy as np\n",
    "import matplotlib.pyplot as plt\n",
    "quasars=fits.open('lensedquasars.fits')\n",
    "quasars.info()\n"
   ]
  },
  {
   "cell_type": "code",
   "execution_count": 4,
   "metadata": {},
   "outputs": [
    {
     "name": "stdout",
     "output_type": "stream",
     "text": [
      "ColDefs(\n",
      "    name = 'RA'; format = 'D'\n",
      "    name = 'DEC'; format = 'D'\n",
      "    name = 'Name'; format = '17A'\n",
      "    name = 'z_qso'; format = '11A'\n",
      "    name = 'z_lens'; format = '15A'\n",
      "    name = 'separation'; format = '5A'\n",
      "    name = 'N_images'; format = 'K'\n",
      "    name = 'W1'; format = '13A'\n",
      "    name = 'W2'; format = '13A'\n",
      ")\n"
     ]
    }
   ],
   "source": [
    "print(quasars[1].columns)"
   ]
  },
  {
   "cell_type": "code",
   "execution_count": 5,
   "metadata": {},
   "outputs": [],
   "source": [
    "from astropy.table import Table\n",
    "data=Table(quasars[1].data)"
   ]
  },
  {
   "cell_type": "code",
   "execution_count": 6,
   "metadata": {},
   "outputs": [
    {
     "name": "stdout",
     "output_type": "stream",
     "text": [
      "z_qso\n",
      "-----\n",
      "  1.7\n",
      " 2.63\n",
      " 1.06\n",
      " 3.36\n",
      " 1.20\n",
      "1.678\n",
      "  3.8\n",
      "2.085\n",
      " 0.99\n",
      "1.828\n",
      "  ...\n",
      " 1.78\n",
      "2.639\n",
      "    -\n",
      " 4.12\n",
      " 2.74\n",
      "1.314\n",
      " 1.49\n",
      "0.787\n",
      "1.298\n",
      " 2.89\n",
      "2.085\n",
      "Length = 220 rows\n"
     ]
    }
   ],
   "source": [
    "from astropy.table import Table\n",
    "zqso=Table(quasars[1].data)\n",
    "print(data['z_qso'])\n"
   ]
  },
  {
   "cell_type": "code",
   "execution_count": 7,
   "metadata": {},
   "outputs": [],
   "source": [
    "data = quasars[1].data"
   ]
  },
  {
   "cell_type": "code",
   "execution_count": 8,
   "metadata": {},
   "outputs": [
    {
     "data": {
      "text/plain": [
       "chararray(['1.7', '2.63', '1.06', '3.36', '1.20', '1.678', '3.8', '2.085',\n",
       "           '0.99', '1.828', '1.64', '1.38', '2.84', '3.124', '2.22',\n",
       "           '1.80', '2.50', '2.719', '1.44', '2.377', '1.85', '1.29',\n",
       "           '2.18', '3.24', '2.16', '0.96', '2.07', '2.162', '1.44',\n",
       "           '1.54', '1.86', '1.689', '2.294', '2.44', '2.6', '1.19',\n",
       "           '2.16', '1.68', '1.713', '1.515', '2.27', '2.375', '2.64',\n",
       "           '1.41', '1.693', '6.51', '-', '2.1', '1.57', '2.84', '2.21',\n",
       "           '3.34', '-', '1.339', '2.892', '-', '2.165', '1.998', '1.540',\n",
       "           '1.51', '2.35', '2.239', '2.024', '3.113', '2.066', '3.87',\n",
       "           '1.116', '1.77', '1.14/ 3.93?', '3.584', '1.826', '1.30',\n",
       "           '2.788', '2.763', '1.378', '1.41', '1.523', '1.54', '4.799',\n",
       "           '1.27', '1.247', '4.5', '3.14', '1.413', '1.841', '2.64',\n",
       "           '1.74', '2.74', '2.55', '1.72', '2.286', '2.199', '1.535',\n",
       "           '2.5', '2.26', '1.452', '1.249', '2.32', '1.235', '1.735',\n",
       "           '1.608', '-', '1.09', '0.658', '2.915', '2.77', '2.438',\n",
       "           '2.888', '1.019', '1.789', '3.8', '2.013', '1.123', '2.355',\n",
       "           '0.802', '3.626', '1.717', '2.702', '2.175', '1.975', '1.877',\n",
       "           '1.502', '1.717', '2.078', '2.254', '1.393', '1.438', '2.426',\n",
       "           '1.570', '2.241', '1.722', '1.624', '1.370', '3.317', '3.235',\n",
       "           '1.81', '2.135', '2.811', '2.952', '2.56', '3.62', '2.74',\n",
       "           '2.575', '4.819', '1.424', '1.724', '1.68', '2.054', '1.97',\n",
       "           '2.36', '1.86', '1.70', '1.21', '1.439', '1.971', '1.72',\n",
       "           '1.553', '2.55', '1.59?', '1.589', '2.16', '1.69', '1.39',\n",
       "           '1.68', '2.88', '1.158', '2.64', '1.91', '3.424', '1.518',\n",
       "           '1.7', '0.778', '1.543', '1.5', '1.165', '1.38', '3.08',\n",
       "           '2.37', '3.07', '1.07', '2.51', '2.78', '2.638', '2.059',\n",
       "           '1.63', '-', '3.27', '1.390', '2.23', '1.662', '0.777', '1.28',\n",
       "           '0.92', '0.674?', '-', '1.28', '2.26', '1.56', '2.381',\n",
       "           '2.033', '1.747', '3.9', '1.07', '1.27', '2.82', '1.69',\n",
       "           '1.73', '2.11', '1.42', '1.78', '2.639', '-', '4.12', '2.74',\n",
       "           '1.314', '1.49', '0.787', '1.298', '2.89', '2.085'],\n",
       "          dtype='<U11')"
      ]
     },
     "execution_count": 8,
     "metadata": {},
     "output_type": "execute_result"
    }
   ],
   "source": [
    "data.field('z_qso')"
   ]
  },
  {
   "cell_type": "code",
   "execution_count": 9,
   "metadata": {},
   "outputs": [],
   "source": [
    "arr = np.array(data.field('z_qso'))"
   ]
  },
  {
   "cell_type": "code",
   "execution_count": 10,
   "metadata": {},
   "outputs": [
    {
     "name": "stdout",
     "output_type": "stream",
     "text": [
      "['1.7' '2.63' '1.06' '3.36' '1.20' '1.678' '3.8' '2.085' '0.99' '1.828'\n",
      " '1.64' '1.38' '2.84' '3.124' '2.22' '1.80' '2.50' '2.719' '1.44' '2.377'\n",
      " '1.85' '1.29' '2.18' '3.24' '2.16' '0.96' '2.07' '2.162' '1.44' '1.54'\n",
      " '1.86' '1.689' '2.294' '2.44' '2.6' '1.19' '2.16' '1.68' '1.713' '1.515'\n",
      " '2.27' '2.375' '2.64' '1.41' '1.693' '6.51' '-' '2.1' '1.57' '2.84'\n",
      " '2.21' '3.34' '-' '1.339' '2.892' '-' '2.165' '1.998' '1.540' '1.51'\n",
      " '2.35' '2.239' '2.024' '3.113' '2.066' '3.87' '1.116' '1.77'\n",
      " '1.14/ 3.93?' '3.584' '1.826' '1.30' '2.788' '2.763' '1.378' '1.41'\n",
      " '1.523' '1.54' '4.799' '1.27' '1.247' '4.5' '3.14' '1.413' '1.841' '2.64'\n",
      " '1.74' '2.74' '2.55' '1.72' '2.286' '2.199' '1.535' '2.5' '2.26' '1.452'\n",
      " '1.249' '2.32' '1.235' '1.735' '1.608' '-' '1.09' '0.658' '2.915' '2.77'\n",
      " '2.438' '2.888' '1.019' '1.789' '3.8' '2.013' '1.123' '2.355' '0.802'\n",
      " '3.626' '1.717' '2.702' '2.175' '1.975' '1.877' '1.502' '1.717' '2.078'\n",
      " '2.254' '1.393' '1.438' '2.426' '1.570' '2.241' '1.722' '1.624' '1.370'\n",
      " '3.317' '3.235' '1.81' '2.135' '2.811' '2.952' '2.56' '3.62' '2.74'\n",
      " '2.575' '4.819' '1.424' '1.724' '1.68' '2.054' '1.97' '2.36' '1.86'\n",
      " '1.70' '1.21' '1.439' '1.971' '1.72' '1.553' '2.55' '1.59?' '1.589'\n",
      " '2.16' '1.69' '1.39' '1.68' '2.88' '1.158' '2.64' '1.91' '3.424' '1.518'\n",
      " '1.7' '0.778' '1.543' '1.5' '1.165' '1.38' '3.08' '2.37' '3.07' '1.07'\n",
      " '2.51' '2.78' '2.638' '2.059' '1.63' '-' '3.27' '1.390' '2.23' '1.662'\n",
      " '0.777' '1.28' '0.92' '0.674?' '-' '1.28' '2.26' '1.56' '2.381' '2.033'\n",
      " '1.747' '3.9' '1.07' '1.27' '2.82' '1.69' '1.73' '2.11' '1.42' '1.78'\n",
      " '2.639' '-' '4.12' '2.74' '1.314' '1.49' '0.787' '1.298' '2.89' '2.085']\n"
     ]
    }
   ],
   "source": [
    "print(arr)"
   ]
  },
  {
   "cell_type": "code",
   "execution_count": 15,
   "metadata": {},
   "outputs": [],
   "source": [
    "unwanted_num = {'-', '1.14/ 3.93?','1.59?','0.674?'}"
   ]
  },
  {
   "cell_type": "code",
   "execution_count": 17,
   "metadata": {},
   "outputs": [],
   "source": [
    "arr = [ele for ele in arr if ele not in unwanted_num]"
   ]
  },
  {
   "cell_type": "code",
   "execution_count": 18,
   "metadata": {},
   "outputs": [
    {
     "name": "stdout",
     "output_type": "stream",
     "text": [
      "['1.7', '2.63', '1.06', '3.36', '1.20', '1.678', '3.8', '2.085', '0.99', '1.828', '1.64', '1.38', '2.84', '3.124', '2.22', '1.80', '2.50', '2.719', '1.44', '2.377', '1.85', '1.29', '2.18', '3.24', '2.16', '0.96', '2.07', '2.162', '1.44', '1.54', '1.86', '1.689', '2.294', '2.44', '2.6', '1.19', '2.16', '1.68', '1.713', '1.515', '2.27', '2.375', '2.64', '1.41', '1.693', '6.51', '2.1', '1.57', '2.84', '2.21', '3.34', '1.339', '2.892', '2.165', '1.998', '1.540', '1.51', '2.35', '2.239', '2.024', '3.113', '2.066', '3.87', '1.116', '1.77', '3.584', '1.826', '1.30', '2.788', '2.763', '1.378', '1.41', '1.523', '1.54', '4.799', '1.27', '1.247', '4.5', '3.14', '1.413', '1.841', '2.64', '1.74', '2.74', '2.55', '1.72', '2.286', '2.199', '1.535', '2.5', '2.26', '1.452', '1.249', '2.32', '1.235', '1.735', '1.608', '1.09', '0.658', '2.915', '2.77', '2.438', '2.888', '1.019', '1.789', '3.8', '2.013', '1.123', '2.355', '0.802', '3.626', '1.717', '2.702', '2.175', '1.975', '1.877', '1.502', '1.717', '2.078', '2.254', '1.393', '1.438', '2.426', '1.570', '2.241', '1.722', '1.624', '1.370', '3.317', '3.235', '1.81', '2.135', '2.811', '2.952', '2.56', '3.62', '2.74', '2.575', '4.819', '1.424', '1.724', '1.68', '2.054', '1.97', '2.36', '1.86', '1.70', '1.21', '1.439', '1.971', '1.72', '1.553', '2.55', '1.589', '2.16', '1.69', '1.39', '1.68', '2.88', '1.158', '2.64', '1.91', '3.424', '1.518', '1.7', '0.778', '1.543', '1.5', '1.165', '1.38', '3.08', '2.37', '3.07', '1.07', '2.51', '2.78', '2.638', '2.059', '1.63', '3.27', '1.390', '2.23', '1.662', '0.777', '1.28', '0.92', '1.28', '2.26', '1.56', '2.381', '2.033', '1.747', '3.9', '1.07', '1.27', '2.82', '1.69', '1.73', '2.11', '1.42', '1.78', '2.639', '4.12', '2.74', '1.314', '1.49', '0.787', '1.298', '2.89', '2.085']\n"
     ]
    }
   ],
   "source": [
    "print(arr)"
   ]
  },
  {
   "cell_type": "code",
   "execution_count": 19,
   "metadata": {},
   "outputs": [
    {
     "data": {
      "image/png": "[encoded data removed]",
      "text/plain": [
       "<Figure size 1440x360 with 1 Axes>"
      ]
     },
     "metadata": {
      "needs_background": "light"
     },
     "output_type": "display_data"
    }
   ],
   "source": [
    "#df = fits.open('lensedquasars.fits')[1].data\n",
    "#df['a'] = np.array(df['a'],dtype=(float))\n",
    "\n",
    "\n",
    "fig,ax=plt.subplots(figsize=(20,5))\n",
    "nbins = 30\n",
    "ax.hist(np.array(arr,dtype=(float)) ,bins=nbins,histtype='step',color='red',lw=2)\n",
    "ax.set(xlabel='Lens Seperation', ylabel='Number density',title='lens seperation histogram')\n",
    "fig.tight_layout()\n",
    "plt.show()"
   ]
  },
  {
   "cell_type": "code",
   "execution_count": null,
   "metadata": {},
   "outputs": [],
   "source": []
  }
 ],
 "metadata": {
  "kernelspec": {
   "display_name": "Python 3",
   "language": "python",
   "name": "python3"
  },
  "language_info": {
   "codemirror_mode": {
    "name": "ipython",
    "version": 3
   },
   "file_extension": ".py",
   "mimetype": "text/x-python",
   "name": "python",
   "nbconvert_exporter": "python",
   "pygments_lexer": "ipython3",
   "version": "3.7.3"
  }
 },
 "nbformat": 4,
 "nbformat_minor": 2
}
